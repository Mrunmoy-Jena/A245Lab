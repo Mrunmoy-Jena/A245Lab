{
 "cells": [
  {
   "cell_type": "code",
   "execution_count": 1,
   "id": "3926c4b9-a007-4abd-91d0-5bf56047afa2",
   "metadata": {},
   "outputs": [],
   "source": [
    "import numpy as np\n",
    "import matplotlib.pyplot as plt\n",
    "import pandas as pd\n",
    "from scipy.optimize import curve_fit"
   ]
  },
  {
   "cell_type": "code",
   "execution_count": 2,
   "id": "bf3707b6-6aa3-4b43-ad82-04807fa5a2d1",
   "metadata": {},
   "outputs": [],
   "source": [
    "df = pd.read_csv('../data/Laserpowervsinjcurrent.csv')\n",
    "#read all columns data into variables\n",
    "current = np.array(df['I (mA)'])\n",
    "current_error = np.array(df['delta I'])\n",
    "unatt_pow = np.array(df['Pnoatt [muW]'])\n",
    "unatt_pow_error = np.array(df['delta Pnoatt'])\n",
    "att_pow = np.array(df['Patt [muW]'])\n",
    "atta_pow_error = np.array(df['delta Patt'])"
   ]
  },
  {
   "cell_type": "code",
   "execution_count": null,
   "id": "9241209a-cc0a-42ad-84de-dd87c8ae5532",
   "metadata": {},
   "outputs": [],
   "source": []
  },
  {
   "cell_type": "code",
   "execution_count": null,
   "id": "568bd70b-9123-42d5-9ac5-c963edce361e",
   "metadata": {},
   "outputs": [],
   "source": []
  }
 ],
 "metadata": {
  "kernelspec": {
   "display_name": "Python 3 (ipykernel)",
   "language": "python",
   "name": "python3"
  },
  "language_info": {
   "codemirror_mode": {
    "name": "ipython",
    "version": 3
   },
   "file_extension": ".py",
   "mimetype": "text/x-python",
   "name": "python",
   "nbconvert_exporter": "python",
   "pygments_lexer": "ipython3",
   "version": "3.9.7"
  }
 },
 "nbformat": 4,
 "nbformat_minor": 5
}
