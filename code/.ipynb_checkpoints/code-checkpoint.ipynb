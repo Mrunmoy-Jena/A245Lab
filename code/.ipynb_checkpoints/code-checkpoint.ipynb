{
 "cells": [
  {
   "cell_type": "code",
   "execution_count": 1,
   "id": "3926c4b9-a007-4abd-91d0-5bf56047afa2",
   "metadata": {},
   "outputs": [],
   "source": [
    "import numpy as np\n",
    "import matplotlib.pyplot as plt\n",
    "import pandas as pd\n",
    "from scipy.optimize import curve_fit\n",
    "import seaborn as sns\n",
    "sns.set_style(\"whitegrid\")"
   ]
  },
  {
   "cell_type": "code",
   "execution_count": 2,
   "id": "2df22d54-6f4f-4a37-9f19-495571db4d92",
   "metadata": {},
   "outputs": [],
   "source": [
    "#reduced chi2 calculations\n",
    "def redchi2(f, x, y, y_err, *args):\n",
    "    sum = 0\n",
    "    for i in range(len(x)):\n",
    "        sum += np.square((f(x[i], *args) - y[i])/(y_err[i]))\n",
    "    dof = len(y) - len(args)\n",
    "    rc2 = np.sqrt(sum)/dof\n",
    "    return rc2"
   ]
  },
  {
   "cell_type": "code",
   "execution_count": 3,
   "id": "bf3707b6-6aa3-4b43-ad82-04807fa5a2d1",
   "metadata": {},
   "outputs": [],
   "source": [
    "df = pd.read_csv('../data/unattpowvsattpow.csv',delimiter=',', header=0)\n",
    "#read all columns data into variables\n",
    "current = np.array(df['I (mA)'])\n",
    "current_error = np.array(df['delta I'])\n",
    "unatt_pow = np.array(df['Pnoatt [muW]'])\n",
    "unatt_pow_error = np.array(df['delta Pnoatt'])\n",
    "att_pow = np.array(df['Patt [muW]'])\n",
    "att_pow_error = np.array(df['delta Patt'])"
   ]
  },
  {
   "cell_type": "markdown",
   "id": "e8bf41e0-dade-45e1-82f1-44c251e1a4e3",
   "metadata": {},
   "source": [
    "## Calibration of Attenuator"
   ]
  },
  {
   "cell_type": "code",
   "execution_count": 4,
   "id": "9241209a-cc0a-42ad-84de-dd87c8ae5532",
   "metadata": {},
   "outputs": [
    {
     "data": {
      "image/png": "[encoded data removed]",
      "text/plain": [
       "<Figure size 576x432 with 1 Axes>"
      ]
     },
     "metadata": {},
     "output_type": "display_data"
    }
   ],
   "source": [
    "#Slicing req values\n",
    "unatt_pow_cut = unatt_pow[(unatt_pow>=28.2) & (unatt_pow<=19000)]\n",
    "att_pow_cut = att_pow[(unatt_pow>=28.2) & (unatt_pow<=19000)]\n",
    "unatt_pow_error_cut = unatt_pow_error[(unatt_pow>=28.2) & (unatt_pow<=19000)]\n",
    "att_pow_error_cut = att_pow_error[(unatt_pow>=28.2) & (unatt_pow<=19000)]\n",
    "plt.figure(figsize=(8, 6))\n",
    "plt.plot(unatt_pow_cut, att_pow_cut,'.')\n",
    "plt.show()"
   ]
  },
  {
   "cell_type": "markdown",
   "id": "0b9d8326-bbee-4805-890a-d8f9480a61dc",
   "metadata": {},
   "source": [
    "### Model for linear fit of attenuated power vs unattenuated power:\n",
    "\n",
    "$P_{att}=aP_{unatt}+b$"
   ]
  },
  {
   "cell_type": "code",
   "execution_count": 5,
   "id": "98fe290c-5938-4749-b4a3-a872bdd63664",
   "metadata": {},
   "outputs": [],
   "source": [
    "def linear_model(x,a,b):\n",
    "    return (a*x+b)"
   ]
  },
  {
   "cell_type": "code",
   "execution_count": 6,
   "id": "317ed12f-2841-472f-aeef-705886dd489b",
   "metadata": {},
   "outputs": [
    {
     "data": {
      "text/plain": [
       "array([ 0.00099475, -0.01635954])"
      ]
     },
     "execution_count": 6,
     "metadata": {},
     "output_type": "execute_result"
    }
   ],
   "source": [
    "#Fit curve using some guess values for a and b\n",
    "#popt stores optimal parameters\n",
    "'''\n",
    "pcov stores covariance matrix\n",
    "Diagonal entries of cov matrix are variances of fit parameters\n",
    "Sqrt(diag(pcov)) will give error (std dev) of fit paramaters\n",
    "'''\n",
    "popt, pcov = curve_fit(linear_model, unatt_pow_cut, att_pow_cut, sigma = att_pow_error_cut, p0=[1/1000,-1], absolute_sigma=True)\n",
    "popt"
   ]
  },
  {
   "cell_type": "code",
   "execution_count": 7,
   "id": "f52e299e-347d-4c36-906a-af61cbf585d5",
   "metadata": {},
   "outputs": [
    {
     "data": {
      "image/png": "[encoded data removed]",
      "text/plain": [
       "<Figure size 432x288 with 1 Axes>"
      ]
     },
     "metadata": {},
     "output_type": "display_data"
    }
   ],
   "source": [
    "a_opt, b_opt = popt\n",
    "x_model = np.linspace(min(unatt_pow_cut), max(unatt_pow_cut), 1000)\n",
    "y_model = linear_model(x_model, a_opt, b_opt)\n",
    "plt.xlabel(r\"$P_{unattenuated}$ ($\\mu W$)\")\n",
    "plt.ylabel(r\"$P_attenuated$ ($\\mu W$)\")\n",
    "plt.errorbar(unatt_pow_cut, att_pow_cut, yerr = att_pow_error_cut, xerr = unatt_pow_error_cut, fmt = \".\", label = 'data', capsize = 4)\n",
    "plt.plot(x_model, y_model, color='r')\n",
    "plt.show()"
   ]
  },
  {
   "cell_type": "code",
   "execution_count": 8,
   "id": "841bee4e-ead9-4959-ac4c-b8e220d430b3",
   "metadata": {},
   "outputs": [
    {
     "name": "stdout",
     "output_type": "stream",
     "text": [
      "5.395847842055821\n"
     ]
    }
   ],
   "source": [
    "print(redchi2(linear_model, unatt_pow_cut, att_pow_cut, att_pow_error_cut, popt[0], popt[1]))"
   ]
  },
  {
   "cell_type": "code",
   "execution_count": null,
   "id": "f4abf1b3-5d34-4e1c-96b5-5a5576550182",
   "metadata": {},
   "outputs": [],
   "source": []
  },
  {
   "cell_type": "code",
   "execution_count": null,
   "id": "92e2369b-1893-4483-b97e-2fda3c00dfc7",
   "metadata": {},
   "outputs": [],
   "source": []
  }
 ],
 "metadata": {
  "kernelspec": {
   "display_name": "Python 3 (ipykernel)",
   "language": "python",
   "name": "python3"
  },
  "language_info": {
   "codemirror_mode": {
    "name": "ipython",
    "version": 3
   },
   "file_extension": ".py",
   "mimetype": "text/x-python",
   "name": "python",
   "nbconvert_exporter": "python",
   "pygments_lexer": "ipython3",
   "version": "3.9.7"
  }
 },
 "nbformat": 4,
 "nbformat_minor": 5
}
